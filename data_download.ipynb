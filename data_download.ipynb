{
 "cells": [
  {
   "cell_type": "markdown",
   "metadata": {},
   "source": [
    "# APM466 Assignment 1 Data Download"
   ]
  },
  {
   "cell_type": "code",
   "execution_count": 7,
   "metadata": {},
   "outputs": [
    {
     "data": {
      "text/plain": [
       "['2025-01-06 00:00',\n",
       " '2025-01-07 00:00',\n",
       " '2025-01-08 00:00',\n",
       " '2025-01-09 00:00',\n",
       " '2025-01-10 00:00',\n",
       " '2025-01-13 00:00',\n",
       " '2025-01-14 00:00',\n",
       " '2025-01-15 00:00',\n",
       " '2025-01-16 00:00',\n",
       " '2025-01-17 00:00']"
      ]
     },
     "execution_count": 7,
     "metadata": {},
     "output_type": "execute_result"
    }
   ],
   "source": [
    "import pandas as pd\n",
    "\n",
    "target_dates = pd.date_range(\"2025-01-06\", periods=10, freq=\"B\").strftime(\"%Y-%m-%d %H:%M\").tolist()\n",
    "target_dates"
   ]
  },
  {
   "cell_type": "code",
   "execution_count": 8,
   "metadata": {},
   "outputs": [],
   "source": [
    "from collections import namedtuple\n",
    "\n",
    "BondUrlPair = namedtuple(\"BondUrlPair\", [\"bond_information_url\", \"chart_data_url\"])\n",
    "\n",
    "# pages = [\n",
    "#     BondUrlPair(\"https://markets.businessinsider.com/bonds/canadacd-bonds_202325-Bond-2025-ca135087q806\", \"https://markets.businessinsider.com/Ajax/Chart_GetChartData?instrumentType=Bond&tkData=1,128862182,1330,184&from=20240123&to=20250123\"),\n",
    "#     BondUrlPair(\"https://markets.businessinsider.com/bonds/canadacd-bonds_202326-Bond-2026-ca135087r226\", \"https://markets.businessinsider.com/Ajax/Chart_GetChartData?instrumentType=Bond&tkData=1,130654501,1330,184&from=20240123&to=20250123\"),\n",
    "#     BondUrlPair(\"https://markets.businessinsider.com/bonds/canadacd-bonds_202426-Bond-2026-ca135087s398\", \"https://markets.businessinsider.com/Ajax/Chart_GetChartData?instrumentType=Bond&tkData=1,137893857,13,184&from=20240123&to=20250123\"),\n",
    "#     BondUrlPair(\"https://markets.businessinsider.com/bonds/canadacd-bonds_202427-Bond-2027-ca135087s547\", \"https://markets.businessinsider.com/Ajax/Chart_GetChartData?instrumentType=Bond&tkData=1,139591564,1330,184&from=20240123&to=20250123\"),\n",
    "#     BondUrlPair(\"https://markets.businessinsider.com/bonds/canadacd-bonds_202227-Bond-2027-ca135087n837\", \"https://markets.businessinsider.com/Ajax/Chart_GetChartData?instrumentType=Bond&tkData=1,119036843,1330,184&from=20240123&to=20250123\"),\n",
    "#     BondUrlPair(\"https://markets.businessinsider.com/bonds/canadacd-bonds_202228-Bond-2028-ca135087p576\", \"https://markets.businessinsider.com/Ajax/Chart_GetChartData?instrumentType=Bond&tkData=1,122651336,1330,184&from=20240123&to=20250123\"),\n",
    "#     BondUrlPair(\"https://markets.businessinsider.com/bonds/canadacd-bonds_202328-Bond-2028-ca135087q491\", \"https://markets.businessinsider.com/Ajax/Chart_GetChartData?instrumentType=Bond&tkData=1,126528699,1330,184&from=20240123&to=20250123\"),\n",
    "#     BondUrlPair(\"https://markets.businessinsider.com/bonds/canadacd-bonds_202329-Bond-2029-ca135087q988\", \"https://markets.businessinsider.com/Ajax/Chart_GetChartData?instrumentType=Bond&tkData=1,130328741,1330,184&from=20240123&to=20250123\"),\n",
    "#     BondUrlPair(\"https://markets.businessinsider.com/bonds/canadacd-bonds_202229-Bond-2029-ca135087n670\", \"https://markets.businessinsider.com/Ajax/Chart_GetChartData?instrumentType=Bond&tkData=1,117855494,1330,184&from=20240123&to=20250123\"),\n",
    "#     BondUrlPair(\"https://markets.businessinsider.com/bonds/canadacd-bonds_202430-Bond-2030-ca135087s471\", \"https://markets.businessinsider.com/Ajax/Chart_GetChartData?instrumentType=Bond&tkData=1,138913105,16,184&from=20240123&to=20250123\"),\n",
    "# ]\n",
    "\n",
    "pages = [\n",
    "    BondUrlPair(\"https://markets.businessinsider.com/bonds/canadacd-bonds_201925-Bond-2025-ca135087k528\", \"https://markets.businessinsider.com/Ajax/Chart_GetChartData?instrumentType=Bond&tkData=1,50546643,1330,184&from=20240123&to=20250123\"),\n",
    "    BondUrlPair(\"https://markets.businessinsider.com/bonds/canadacd-bonds_202025-Bond-2025-ca135087k940\", \"https://markets.businessinsider.com/Ajax/Chart_GetChartData?instrumentType=Bond&tkData=1,53991397,1330,184&from=20240123&to=20250123\"),\n",
    "    BondUrlPair(\"https://markets.businessinsider.com/bonds/canadacd-bonds_202326-Bond-2026-ca135087r226\", \"https://markets.businessinsider.com/Ajax/Chart_GetChartData?instrumentType=Bond&tkData=1,130654501,1330,184&from=20240123&to=20250123\"),\n",
    "    BondUrlPair(\"https://markets.businessinsider.com/bonds/canadacd-bonds_202426-Bond-2026-ca135087r978\", \"https://markets.businessinsider.com/Ajax/Chart_GetChartData?instrumentType=Bond&tkData=1,135402145,1330,184&from=20240123&to=20250123\"),\n",
    "    BondUrlPair(\"https://markets.businessinsider.com/bonds/canadacd-bonds_202127-Bond-2027-ca135087m847\", \"https://markets.businessinsider.com/Ajax/Chart_GetChartData?instrumentType=Bond&tkData=1,114329463,1330,184&from=20240123&to=20250123\"),\n",
    "    BondUrlPair(\"https://markets.businessinsider.com/bonds/canadacd-bonds_202227-Bond-2027-ca135087n837\", \"https://markets.businessinsider.com/Ajax/Chart_GetChartData?instrumentType=Bond&tkData=1,119036843,1330,184&from=20240123&to=20250123\"),\n",
    "    BondUrlPair(\"https://markets.businessinsider.com/bonds/canadacd-bonds_202228-Bond-2028-ca135087p576\", \"https://markets.businessinsider.com/Ajax/Chart_GetChartData?instrumentType=Bond&tkData=1,122651336,1330,184&from=20240123&to=20250123\"),\n",
    "    BondUrlPair(\"https://markets.businessinsider.com/bonds/canadacd-bonds_202328-Bond-2028-ca135087q491\", \"https://markets.businessinsider.com/Ajax/Chart_GetChartData?instrumentType=Bond&tkData=1,126528699,1330,184&from=20240123&to=20250123\"),\n",
    "    BondUrlPair(\"https://markets.businessinsider.com/bonds/canadacd-bonds_202329-Bond-2029-ca135087q988\", \"https://markets.businessinsider.com/Ajax/Chart_GetChartData?instrumentType=Bond&tkData=1,130328741,1330,184&from=20240123&to=20250123\"),\n",
    "    BondUrlPair(\"https://markets.businessinsider.com/bonds/canadacd-bonds_202429-Bond-2029-ca135087r895\", \"https://markets.businessinsider.com/Ajax/Chart_GetChartData?instrumentType=Bond&tkData=1,134387959,1330,184&from=20240123&to=20250123\"),\n",
    "    BondUrlPair(\"https://markets.businessinsider.com/bonds/canadacd-bonds_202430-Bond-2030-ca135087s471\", \"https://markets.businessinsider.com/Ajax/Chart_GetChartData?instrumentType=Bond&tkData=1,138913105,16,184&from=20240123&to=20250123\"),\n",
    "]"
   ]
  },
  {
   "cell_type": "markdown",
   "metadata": {},
   "source": [
    "### Download Bond Data"
   ]
  },
  {
   "cell_type": "code",
   "execution_count": 9,
   "metadata": {},
   "outputs": [],
   "source": [
    "from bs4 import BeautifulSoup\n",
    "from datetime import datetime, date\n",
    "import requests\n",
    "\n",
    "Bond = namedtuple(\"Bond\", [\"name\", \"isin\", \"coupon\", \"date_issue\", \"date_maturity\", \"time_series\"])\n",
    "\n",
    "def to_date(s: str) -> date:\n",
    "    return datetime.strptime(s, \"%m/%d/%Y\").date()\n",
    "\n",
    "def scrape_bond(b: BondUrlPair) -> Bond:\n",
    "    # Retrieve bond information\n",
    "    soup = BeautifulSoup(requests.get(b.bond_information_url).content, 'html.parser')\n",
    "    metadata = {}\n",
    "    for tag in soup.find_all('tr', class_='table__tr'):\n",
    "        children = tag.findChildren()\n",
    "        if len(children) == 2:\n",
    "            key = children[0].contents[0]\\\n",
    "                  .lstrip('\\n\\t').rstrip('\\n\\t').replace(' ', '_')\n",
    "            value = children[1].contents[0].lstrip('\\n\\t').rstrip('\\n\\t')\n",
    "            metadata[key] = value\n",
    "    date_issue = to_date(metadata['Issue_Date'])\n",
    "    date_maturity = to_date(metadata['Maturity_Date'])\n",
    "    coupon = float(metadata['Coupon'].rstrip('%')) / 100\n",
    "    # Retrieve time series information\n",
    "    time_series = {}\n",
    "    chart_data = requests.get(b.chart_data_url).json()\n",
    "    for entry in chart_data:\n",
    "        if entry['Date'] in target_dates:\n",
    "            time_series[entry['Date']] = entry['Close']\n",
    "    return Bond(\n",
    "        name=f'CAN {(coupon * 100):.2f} {date_maturity.strftime(\"%b %y\")}',\n",
    "        isin=metadata['ISIN'],\n",
    "        coupon=coupon,\n",
    "        date_issue=date_issue,\n",
    "        date_maturity=date_maturity,\n",
    "        time_series=time_series,\n",
    "    )\n",
    "\n",
    "bonds = [scrape_bond(b) for b in pages]"
   ]
  },
  {
   "cell_type": "code",
   "execution_count": 10,
   "metadata": {},
   "outputs": [
    {
     "data": {
      "text/plain": [
       "[Bond(name='CAN 1.25 Mar 25', isin='CA135087K528', coupon=0.0125, date_issue=datetime.date(2019, 10, 11), date_maturity=datetime.date(2025, 3, 1), time_series={'2025-01-06 00:00': 99.73, '2025-01-07 00:00': 99.73, '2025-01-08 00:00': 99.74, '2025-01-09 00:00': 99.73, '2025-01-10 00:00': 99.74, '2025-01-13 00:00': 99.73, '2025-01-14 00:00': 99.73, '2025-01-15 00:00': 99.77, '2025-01-16 00:00': 99.78, '2025-01-17 00:00': 99.8}),\n",
       " Bond(name='CAN 0.50 Sep 25', isin='CA135087K940', coupon=0.005, date_issue=datetime.date(2020, 4, 3), date_maturity=datetime.date(2025, 9, 1), time_series={'2025-01-06 00:00': 98.4, '2025-01-07 00:00': 98.41, '2025-01-08 00:00': 98.4, '2025-01-09 00:00': 98.42, '2025-01-10 00:00': 98.37, '2025-01-13 00:00': 98.36, '2025-01-14 00:00': 98.36, '2025-01-15 00:00': 98.4, '2025-01-16 00:00': 98.47, '2025-01-17 00:00': 98.5}),\n",
       " Bond(name='CAN 4.50 Feb 26', isin='CA135087R226', coupon=0.045, date_issue=datetime.date(2023, 11, 1), date_maturity=datetime.date(2026, 2, 1), time_series={'2025-01-06 00:00': 101.58, '2025-01-07 00:00': 101.58, '2025-01-08 00:00': 101.56, '2025-01-09 00:00': 101.58, '2025-01-10 00:00': 101.46, '2025-01-13 00:00': 101.39, '2025-01-14 00:00': 101.35, '2025-01-15 00:00': 101.42, '2025-01-16 00:00': 101.52, '2025-01-17 00:00': 101.54}),\n",
       " Bond(name='CAN 4.00 Aug 26', isin='CA135087R978', coupon=0.04, date_issue=datetime.date(2024, 5, 6), date_maturity=datetime.date(2026, 8, 3), time_series={'2025-01-06 00:00': 101.54, '2025-01-07 00:00': 101.57, '2025-01-08 00:00': 101.53, '2025-01-09 00:00': 101.55, '2025-01-10 00:00': 101.46, '2025-01-13 00:00': 101.32, '2025-01-14 00:00': 101.2, '2025-01-15 00:00': 101.32, '2025-01-16 00:00': 101.49, '2025-01-17 00:00': 101.51}),\n",
       " Bond(name='CAN 1.25 Mar 27', isin='CA135087M847', coupon=0.0125, date_issue=datetime.date(2021, 10, 15), date_maturity=datetime.date(2027, 3, 1), time_series={'2025-01-06 00:00': 96.62, '2025-01-07 00:00': 96.59, '2025-01-08 00:00': 96.58, '2025-01-09 00:00': 96.63, '2025-01-10 00:00': 96.39, '2025-01-13 00:00': 96.28, '2025-01-14 00:00': 96.19, '2025-01-15 00:00': 96.36, '2025-01-16 00:00': 96.6, '2025-01-17 00:00': 96.64}),\n",
       " Bond(name='CAN 2.75 Sep 27', isin='CA135087N837', coupon=0.0275, date_issue=datetime.date(2022, 5, 13), date_maturity=datetime.date(2027, 9, 1), time_series={'2025-01-06 00:00': 99.63, '2025-01-07 00:00': 99.56, '2025-01-08 00:00': 99.54, '2025-01-09 00:00': 99.58, '2025-01-10 00:00': 99.27, '2025-01-13 00:00': 99.13, '2025-01-14 00:00': 99.02, '2025-01-15 00:00': 99.2, '2025-01-16 00:00': 99.5, '2025-01-17 00:00': 99.53}),\n",
       " Bond(name='CAN 3.50 Mar 28', isin='CA135087P576', coupon=0.035, date_issue=datetime.date(2022, 10, 21), date_maturity=datetime.date(2028, 3, 1), time_series={'2025-01-06 00:00': 101.82, '2025-01-07 00:00': 101.82, '2025-01-08 00:00': 101.7, '2025-01-09 00:00': 101.72, '2025-01-10 00:00': 101.52, '2025-01-13 00:00': 101.26, '2025-01-14 00:00': 101.02, '2025-01-15 00:00': 101.24, '2025-01-16 00:00': 101.58, '2025-01-17 00:00': 101.65}),\n",
       " Bond(name='CAN 3.25 Sep 28', isin='CA135087Q491', coupon=0.0325, date_issue=datetime.date(2023, 4, 21), date_maturity=datetime.date(2028, 9, 1), time_series={'2025-01-06 00:00': 101.1, '2025-01-07 00:00': 101.14, '2025-01-08 00:00': 100.99, '2025-01-09 00:00': 100.94, '2025-01-10 00:00': 100.79, '2025-01-13 00:00': 100.49, '2025-01-14 00:00': 100.19, '2025-01-15 00:00': 100.42, '2025-01-16 00:00': 100.92, '2025-01-17 00:00': 101.02}),\n",
       " Bond(name='CAN 4.00 Mar 29', isin='CA135087Q988', coupon=0.04, date_issue=datetime.date(2023, 10, 13), date_maturity=datetime.date(2029, 3, 1), time_series={'2025-01-06 00:00': 104.07, '2025-01-07 00:00': 104.01, '2025-01-08 00:00': 103.9, '2025-01-09 00:00': 103.87, '2025-01-10 00:00': 103.53, '2025-01-13 00:00': 103.29, '2025-01-14 00:00': 102.99, '2025-01-15 00:00': 103.24, '2025-01-16 00:00': 103.8, '2025-01-17 00:00': 103.9}),\n",
       " Bond(name='CAN 3.50 Sep 29', isin='CA135087R895', coupon=0.035, date_issue=datetime.date(2024, 4, 8), date_maturity=datetime.date(2029, 9, 1), time_series={'2025-01-06 00:00': 102.22, '2025-01-07 00:00': 102.14, '2025-01-08 00:00': 102.04, '2025-01-09 00:00': 101.98, '2025-01-10 00:00': 101.59, '2025-01-13 00:00': 101.28, '2025-01-14 00:00': 101, '2025-01-15 00:00': 101.27, '2025-01-16 00:00': 101.85, '2025-01-17 00:00': 101.97}),\n",
       " Bond(name='CAN 2.75 Mar 30', isin='CA135087S471', coupon=0.0275, date_issue=datetime.date(2024, 10, 3), date_maturity=datetime.date(2030, 3, 1), time_series={'2025-01-06 00:00': 98.81, '2025-01-07 00:00': 98.6, '2025-01-08 00:00': 98.53, '2025-01-09 00:00': 98.54, '2025-01-10 00:00': 97.96, '2025-01-13 00:00': 97.61, '2025-01-14 00:00': 97.38, '2025-01-15 00:00': 97.76, '2025-01-16 00:00': 98.4, '2025-01-17 00:00': 98.47})]"
      ]
     },
     "execution_count": 10,
     "metadata": {},
     "output_type": "execute_result"
    }
   ],
   "source": [
    "bonds"
   ]
  },
  {
   "cell_type": "markdown",
   "metadata": {},
   "source": [
    "### Write bond data to a file"
   ]
  },
  {
   "cell_type": "code",
   "execution_count": 11,
   "metadata": {},
   "outputs": [],
   "source": [
    "import csv\n",
    "\n",
    "with open('bond_data.csv', mode='w', newline='') as file:\n",
    "    writer = csv.writer(file)\n",
    "    # Write the header\n",
    "    writer.writerow(['Name', 'ISIN', 'Coupon', 'Issue Date', 'Maturity Date'] + target_dates)\n",
    "    # Write the bond data\n",
    "    for bond in bonds:\n",
    "        row = [\n",
    "            bond.name,\n",
    "            bond.isin,\n",
    "            bond.coupon,\n",
    "            bond.date_issue.strftime('%Y-%m-%d'),\n",
    "            bond.date_maturity.strftime('%Y-%m-%d')\n",
    "        ] + [bond.time_series.get(date, '') for date in target_dates]\n",
    "        writer.writerow(row)"
   ]
  }
 ],
 "metadata": {
  "kernelspec": {
   "display_name": "Python 3",
   "language": "python",
   "name": "python3"
  },
  "language_info": {
   "codemirror_mode": {
    "name": "ipython",
    "version": 3
   },
   "file_extension": ".py",
   "mimetype": "text/x-python",
   "name": "python",
   "nbconvert_exporter": "python",
   "pygments_lexer": "ipython3",
   "version": "3.10.11"
  }
 },
 "nbformat": 4,
 "nbformat_minor": 2
}
